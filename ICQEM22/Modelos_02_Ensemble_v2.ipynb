{
 "cells": [
  {
   "cell_type": "code",
   "execution_count": 1,
   "metadata": {},
   "outputs": [],
   "source": [
    "import pandas as pd\n",
    "import tensorflow as tf\n",
    "from tensorflow import keras\n",
    "\n",
    "from keras.models import Sequential\n",
    "from keras.layers import Input, Dropout\n",
    "from keras.layers import Dense"
   ]
  },
  {
   "cell_type": "code",
   "execution_count": 4,
   "metadata": {},
   "outputs": [
    {
     "data": {
      "text/html": [
       "<div>\n",
       "<style scoped>\n",
       "    .dataframe tbody tr th:only-of-type {\n",
       "        vertical-align: middle;\n",
       "    }\n",
       "\n",
       "    .dataframe tbody tr th {\n",
       "        vertical-align: top;\n",
       "    }\n",
       "\n",
       "    .dataframe thead th {\n",
       "        text-align: right;\n",
       "    }\n",
       "</style>\n",
       "<table border=\"1\" class=\"dataframe\">\n",
       "  <thead>\n",
       "    <tr style=\"text-align: right;\">\n",
       "      <th></th>\n",
       "      <th>star_rating</th>\n",
       "      <th>sentiment</th>\n",
       "      <th>score</th>\n",
       "      <th>review_body</th>\n",
       "      <th>modelo</th>\n",
       "      <th>star_mapped</th>\n",
       "    </tr>\n",
       "  </thead>\n",
       "  <tbody>\n",
       "    <tr>\n",
       "      <th>0</th>\n",
       "      <td>5</td>\n",
       "      <td>0</td>\n",
       "      <td>0.999859</td>\n",
       "      <td>Brighter then OEM</td>\n",
       "      <td>mrm8488</td>\n",
       "      <td>1</td>\n",
       "    </tr>\n",
       "    <tr>\n",
       "      <th>0</th>\n",
       "      <td>5</td>\n",
       "      <td>0</td>\n",
       "      <td>0.999871</td>\n",
       "      <td>Works every time using apps on my Windows Lumi...</td>\n",
       "      <td>mrm8488</td>\n",
       "      <td>1</td>\n",
       "    </tr>\n",
       "    <tr>\n",
       "      <th>0</th>\n",
       "      <td>5</td>\n",
       "      <td>0</td>\n",
       "      <td>0.966300</td>\n",
       "      <td>Very cool and helpful.</td>\n",
       "      <td>mrm8488</td>\n",
       "      <td>1</td>\n",
       "    </tr>\n",
       "    <tr>\n",
       "      <th>0</th>\n",
       "      <td>5</td>\n",
       "      <td>0</td>\n",
       "      <td>0.999843</td>\n",
       "      <td>I've had them in for about a month now and I b...</td>\n",
       "      <td>mrm8488</td>\n",
       "      <td>1</td>\n",
       "    </tr>\n",
       "    <tr>\n",
       "      <th>0</th>\n",
       "      <td>4</td>\n",
       "      <td>-1</td>\n",
       "      <td>0.997117</td>\n",
       "      <td>Bluetooth connection can lag at times but over...</td>\n",
       "      <td>mrm8488</td>\n",
       "      <td>1</td>\n",
       "    </tr>\n",
       "  </tbody>\n",
       "</table>\n",
       "</div>"
      ],
      "text/plain": [
       "   star_rating  sentiment     score  \\\n",
       "0            5          0  0.999859   \n",
       "0            5          0  0.999871   \n",
       "0            5          0  0.966300   \n",
       "0            5          0  0.999843   \n",
       "0            4         -1  0.997117   \n",
       "\n",
       "                                         review_body   modelo  star_mapped  \n",
       "0                                  Brighter then OEM  mrm8488            1  \n",
       "0  Works every time using apps on my Windows Lumi...  mrm8488            1  \n",
       "0                             Very cool and helpful.  mrm8488            1  \n",
       "0  I've had them in for about a month now and I b...  mrm8488            1  \n",
       "0  Bluetooth connection can lag at times but over...  mrm8488            1  "
      ]
     },
     "execution_count": 4,
     "metadata": {},
     "output_type": "execute_result"
    }
   ],
   "source": [
    "import pandas as pd\n",
    "data = pd.read_pickle(\"data/modelos.pkl\")\n",
    "data['modelo']=data['modelo'].apply(lambda x: x.split('/')[0])\n",
    "data.shape\n",
    "data.head(5)"
   ]
  },
  {
   "cell_type": "code",
   "execution_count": 5,
   "metadata": {},
   "outputs": [
    {
     "name": "stdout",
     "output_type": "stream",
     "text": [
      "(160665, 7)\n",
      "        target  s1  s2  s3  s4  s5\n",
      "0            1   0   0   0   0   1\n",
      "1            1   0   0   0   1   0\n",
      "2            1   0   0   0   1   0\n",
      "3            1   0   0   0  -1   0\n",
      "4            1  -1   1   1   1   1\n",
      "...        ...  ..  ..  ..  ..  ..\n",
      "160660       1   1   1   1   1   1\n",
      "160661       1   1   0   0   1   1\n",
      "160662      -1   0   0   0  -1  -1\n",
      "160663       1   0   0   0   1  -1\n",
      "160664       1   0   1   0   1   1\n",
      "\n",
      "[160665 rows x 6 columns]\n"
     ]
    }
   ],
   "source": [
    "df = pd.read_pickle(\"data/modelos_ensemble.pkl\")\n",
    "print(df.shape)\n",
    "df.drop(columns=['index'],inplace=True)\n",
    "print(df)"
   ]
  },
  {
   "cell_type": "code",
   "execution_count": 6,
   "metadata": {},
   "outputs": [],
   "source": [
    "from sklearn.model_selection import train_test_split\n",
    "\n",
    "train=df.iloc[:,1:6]\n",
    "y=df['target']\n",
    "X_train, X_test, y_train, y_test = train_test_split(train, y, test_size=0.2, random_state=42)"
   ]
  },
  {
   "cell_type": "code",
   "execution_count": 7,
   "metadata": {},
   "outputs": [
    {
     "name": "stdout",
     "output_type": "stream",
     "text": [
      "[[0. 1. 0.]\n",
      " [0. 1. 0.]\n",
      " [0. 0. 1.]\n",
      " ...\n",
      " [0. 1. 0.]\n",
      " [0. 1. 0.]\n",
      " [0. 1. 0.]] 105733    1\n",
      "53378     1\n",
      "80497    -1\n",
      "70443     1\n",
      "55675     1\n",
      "         ..\n",
      "119879    1\n",
      "103694    1\n",
      "131932    1\n",
      "146867    1\n",
      "121958    1\n",
      "Name: target, Length: 128532, dtype: int8\n"
     ]
    }
   ],
   "source": [
    "y_train_tf =  tf.keras.utils.to_categorical(y_train, 3)\n",
    "y_test_tf =  tf.keras.utils.to_categorical(y_test, 3)\n",
    "print(y_train_tf,y_train)"
   ]
  },
  {
   "cell_type": "code",
   "execution_count": 8,
   "metadata": {},
   "outputs": [],
   "source": [
    "from sklearn.utils import class_weight\n",
    "import numpy as np\n",
    "import math\n",
    "\n",
    "def create_class_weight(labels_dict,mu=0.15):\n",
    "    total = np.sum(list(labels_dict.values()))\n",
    "    keys = labels_dict.keys()\n",
    "    class_weight = dict()\n",
    "    \n",
    "    for key in keys:\n",
    "        score = math.log(mu*total/float(labels_dict[key]))\n",
    "        class_weight[key] = score if score > 1.0 else 1.0\n",
    "    \n",
    "    return class_weight\n",
    "\n",
    "# random labels_dict\n",
    "labels_dict = {0:len(y_train[y_train==-1]),1: len(y_train[y_train==0]),2:len(y_train[y_train==1])}\n",
    "\n",
    "class_weight=create_class_weight(labels_dict)"
   ]
  },
  {
   "cell_type": "code",
   "execution_count": 9,
   "metadata": {},
   "outputs": [
    {
     "name": "stdout",
     "output_type": "stream",
     "text": [
      "Model: \"sequential\"\n",
      "_________________________________________________________________\n",
      " Layer (type)                Output Shape              Param #   \n",
      "=================================================================\n",
      " dense (Dense)               (None, 25)                150       \n",
      "                                                                 \n",
      " dense_1 (Dense)             (None, 3)                 78        \n",
      "                                                                 \n",
      "=================================================================\n",
      "Total params: 228\n",
      "Trainable params: 228\n",
      "Non-trainable params: 0\n",
      "_________________________________________________________________\n"
     ]
    }
   ],
   "source": [
    "#This callback will stop the training when there is no improvement in the loss for the consecutive nº of epochs defined in patience parameter.\n",
    "callback = tf.keras.callbacks.EarlyStopping(monitor='loss', patience=5)\n",
    "\n",
    "# define model\n",
    "t_model = Sequential()\n",
    "t_model.add(Dense(25, input_dim=5, activation='relu'))\n",
    "t_model.add(Dense(3, activation='softmax'))\n",
    "t_model.compile(loss='categorical_crossentropy', optimizer=keras.optimizers.Adam(learning_rate=0.001), metrics=['accuracy'])\n",
    "t_model.summary()"
   ]
  },
  {
   "cell_type": "code",
   "execution_count": 10,
   "metadata": {},
   "outputs": [
    {
     "name": "stdout",
     "output_type": "stream",
     "text": [
      "Epoch 1/10\n",
      "4017/4017 [==============================] - 22s 5ms/step - loss: 0.3252 - accuracy: 0.9077 - val_loss: 0.2974 - val_accuracy: 0.9083\n",
      "Epoch 2/10\n",
      "4017/4017 [==============================] - 17s 4ms/step - loss: 0.3065 - accuracy: 0.9103 - val_loss: 0.2965 - val_accuracy: 0.9088\n",
      "Epoch 3/10\n",
      "4017/4017 [==============================] - 17s 4ms/step - loss: 0.3060 - accuracy: 0.9103 - val_loss: 0.2957 - val_accuracy: 0.9088\n",
      "Epoch 4/10\n",
      "4017/4017 [==============================] - 18s 5ms/step - loss: 0.3057 - accuracy: 0.9103 - val_loss: 0.2963 - val_accuracy: 0.9087\n",
      "Epoch 5/10\n",
      "4017/4017 [==============================] - 17s 4ms/step - loss: 0.3054 - accuracy: 0.9101 - val_loss: 0.2950 - val_accuracy: 0.9088\n",
      "Epoch 6/10\n",
      "4017/4017 [==============================] - 16s 4ms/step - loss: 0.3050 - accuracy: 0.9102 - val_loss: 0.2958 - val_accuracy: 0.9083\n",
      "Epoch 7/10\n",
      "4017/4017 [==============================] - 17s 4ms/step - loss: 0.3047 - accuracy: 0.9103 - val_loss: 0.2939 - val_accuracy: 0.9089\n",
      "Epoch 8/10\n",
      "4017/4017 [==============================] - 15s 4ms/step - loss: 0.3047 - accuracy: 0.9102 - val_loss: 0.2961 - val_accuracy: 0.9089\n",
      "Epoch 9/10\n",
      "4017/4017 [==============================] - 15s 4ms/step - loss: 0.3045 - accuracy: 0.9102 - val_loss: 0.2952 - val_accuracy: 0.9087\n",
      "Epoch 10/10\n",
      "4017/4017 [==============================] - 16s 4ms/step - loss: 0.3045 - accuracy: 0.9102 - val_loss: 0.2957 - val_accuracy: 0.9088\n",
      "INFO:tensorflow:Assets written to: saved_model/t_model\\assets\n"
     ]
    }
   ],
   "source": [
    "# fit model\n",
    "history = t_model.fit(X_train, y_train_tf, validation_data=(X_test, y_test_tf), epochs=10, callbacks=[callback],class_weight=class_weight, verbose=1)\n",
    "t_model.save('saved_model/t_model')"
   ]
  },
  {
   "cell_type": "code",
   "execution_count": 11,
   "metadata": {},
   "outputs": [
    {
     "name": "stdout",
     "output_type": "stream",
     "text": [
      "Model: \"sequential\"\n",
      "_________________________________________________________________\n",
      " Layer (type)                Output Shape              Param #   \n",
      "=================================================================\n",
      " dense (Dense)               (None, 25)                150       \n",
      "                                                                 \n",
      " dense_1 (Dense)             (None, 3)                 78        \n",
      "                                                                 \n",
      "=================================================================\n",
      "Total params: 228\n",
      "Trainable params: 228\n",
      "Non-trainable params: 0\n",
      "_________________________________________________________________\n"
     ]
    }
   ],
   "source": [
    "t_model = tf.keras.models.load_model('saved_model/t_model')\n",
    "# Check its architecture\n",
    "t_model.summary()"
   ]
  },
  {
   "cell_type": "code",
   "execution_count": 12,
   "metadata": {},
   "outputs": [
    {
     "name": "stdout",
     "output_type": "stream",
     "text": [
      "1005/1005 [==============================] - 4s 4ms/step\n",
      "[[0.01040052 0.98811007 0.00148937]\n",
      " [0.01200145 0.97871315 0.00928547]\n",
      " [0.01499161 0.9786689  0.00633939]\n",
      " ...\n",
      " [0.1416324  0.24288434 0.61548334]\n",
      " [0.01040052 0.98811007 0.00148937]\n",
      " [0.00830026 0.98501205 0.00668771]]\n"
     ]
    }
   ],
   "source": [
    "t_model_pred = t_model.predict(X_test)\n",
    "print(t_model_pred)"
   ]
  },
  {
   "cell_type": "code",
   "execution_count": 13,
   "metadata": {},
   "outputs": [],
   "source": [
    "import numpy as np\n",
    "\n",
    "t_model_predictions = np.argmax(t_model_pred, axis=1) # select the index with the highest probability\n",
    "\n",
    "fx = (lambda x: {0:0, 1:1, 2:-1}[x])\n",
    "\n",
    "t_model_predictions = np.array([fx(x) for x in t_model_predictions]) # map the index to the corresponding label"
   ]
  },
  {
   "cell_type": "code",
   "execution_count": 14,
   "metadata": {},
   "outputs": [
    {
     "name": "stdout",
     "output_type": "stream",
     "text": [
      "              precision    recall  f1-score   support\n",
      "\n",
      "          -1       0.63      0.72      0.67      2738\n",
      "           0       0.45      0.01      0.01      1441\n",
      "           1       0.94      0.97      0.96     27954\n",
      "\n",
      "    accuracy                           0.91     32133\n",
      "   macro avg       0.67      0.57      0.55     32133\n",
      "weighted avg       0.89      0.91      0.89     32133\n",
      "\n"
     ]
    }
   ],
   "source": [
    "from sklearn.metrics import classification_report\n",
    "print(classification_report(y_test, t_model_predictions))"
   ]
  }
 ],
 "metadata": {
  "interpreter": {
   "hash": "de1ae98bfc1a8d51329215b249e116ba5b7890727a36bd8cb81d895ab7b89db0"
  },
  "kernelspec": {
   "display_name": "Python 3.9.10 ('Papers')",
   "language": "python",
   "name": "python3"
  },
  "language_info": {
   "codemirror_mode": {
    "name": "ipython",
    "version": 3
   },
   "file_extension": ".py",
   "mimetype": "text/x-python",
   "name": "python",
   "nbconvert_exporter": "python",
   "pygments_lexer": "ipython3",
   "version": "3.9.10"
  },
  "orig_nbformat": 4
 },
 "nbformat": 4,
 "nbformat_minor": 2
}
