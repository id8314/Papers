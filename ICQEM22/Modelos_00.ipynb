{
 "cells": [
  {
   "cell_type": "code",
   "execution_count": null,
   "metadata": {},
   "outputs": [],
   "source": [
    "import pandas as pd\n",
    "data = pd.read_pickle(\"modelos.pkl\")\n",
    "data.head()"
   ]
  },
  {
   "cell_type": "code",
   "execution_count": null,
   "metadata": {},
   "outputs": [],
   "source": [
    "data['sentiment'].unique()"
   ]
  },
  {
   "cell_type": "code",
   "execution_count": null,
   "metadata": {},
   "outputs": [],
   "source": [
    "data['sentiment'].replace(to_replace=['negative','neutral','positive'], value=[-1, 0, 1], inplace=True)\n",
    "data['sentiment'].replace(to_replace=['NEG','NEU','POS'], value=[-1, 0, 1], inplace=True)\n",
    "data['sentiment'].replace(to_replace=['LABEL_0','LABEL_1','LABEL_2'], value=[-1, 0, 1], inplace=True)"
   ]
  },
  {
   "cell_type": "code",
   "execution_count": null,
   "metadata": {},
   "outputs": [],
   "source": [
    "data['sentiment'] = data['sentiment'].astype('int8')\n",
    "data['star_rating'] = data['star_rating'].astype('int8')\n",
    "data['sentiment'].unique()"
   ]
  },
  {
   "cell_type": "code",
   "execution_count": null,
   "metadata": {},
   "outputs": [],
   "source": [
    "def conv(x):\n",
    "    # choices={'5':1,'4':1,'3':0,'2':-1,'1':-1}\n",
    "    choices={5:1,4:1,3:0,2:-1,1:-1}\n",
    "    return choices.get(x)\n",
    "\n",
    "data['star_mapped']=data['star_rating'].apply(lambda x: conv(x))\n",
    "data['star_mapped'] = data['star_mapped'].astype('int8')"
   ]
  },
  {
   "cell_type": "code",
   "execution_count": null,
   "metadata": {},
   "outputs": [],
   "source": [
    "data.to_pickle(\"modelos.pkl\")\n",
    "data = pd.read_pickle(\"modelos.pkl\")\n",
    "data.head(20)"
   ]
  }
 ],
 "metadata": {
  "interpreter": {
   "hash": "c8a5cbf9b3c2cb7692e186a345eed398a2787bdbbc6547046d0c35b17f363b32"
  },
  "kernelspec": {
   "display_name": "Python (Papers)",
   "language": "python",
   "name": "python3"
  },
  "language_info": {
   "name": "python",
   "version": "3.9.7"
  },
  "orig_nbformat": 4
 },
 "nbformat": 4,
 "nbformat_minor": 2
}
